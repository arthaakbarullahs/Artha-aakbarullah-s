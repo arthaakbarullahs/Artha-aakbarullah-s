{
  "nbformat": 4,
  "nbformat_minor": 0,
  "metadata": {
    "colab": {
      "provenance": [],
      "toc_visible": true
    },
    "kernelspec": {
      "name": "python3",
      "display_name": "Python 3"
    },
    "language_info": {
      "name": "python"
    }
  },
  "cells": [
    {
      "cell_type": "code",
      "execution_count": 1,
      "metadata": {
        "colab": {
          "base_uri": "https://localhost:8080/"
        },
        "id": "Wf8MptxKEe4E",
        "outputId": "bc9b2c47-7fb1-44a2-d219-bfa333dde582"
      },
      "outputs": [
        {
          "output_type": "execute_result",
          "data": {
            "text/plain": [
              "6"
            ]
          },
          "metadata": {},
          "execution_count": 1
        }
      ],
      "source": [
        "5 + 1"
      ]
    },
    {
      "cell_type": "code",
      "source": [
        "10-10"
      ],
      "metadata": {
        "colab": {
          "base_uri": "https://localhost:8080/"
        },
        "id": "34GbL30HFdkl",
        "outputId": "85f060f0-8b08-4c9a-89c0-aa757d46b375"
      },
      "execution_count": null,
      "outputs": [
        {
          "output_type": "execute_result",
          "data": {
            "text/plain": [
              "0"
            ]
          },
          "metadata": {},
          "execution_count": 2
        }
      ]
    },
    {
      "cell_type": "code",
      "source": [
        "2*2"
      ],
      "metadata": {
        "colab": {
          "base_uri": "https://localhost:8080/"
        },
        "id": "y35bOGJxFixA",
        "outputId": "3fd12ae0-e195-48cc-e4e3-c1af9cfa8043"
      },
      "execution_count": null,
      "outputs": [
        {
          "output_type": "execute_result",
          "data": {
            "text/plain": [
              "4"
            ]
          },
          "metadata": {},
          "execution_count": 3
        }
      ]
    },
    {
      "cell_type": "code",
      "source": [
        "100/5"
      ],
      "metadata": {
        "colab": {
          "base_uri": "https://localhost:8080/"
        },
        "id": "CLkj_2rYFmr2",
        "outputId": "45d71879-9ff7-4070-ef45-63e14136d1ad"
      },
      "execution_count": null,
      "outputs": [
        {
          "output_type": "execute_result",
          "data": {
            "text/plain": [
              "20.0"
            ]
          },
          "metadata": {},
          "execution_count": 4
        }
      ]
    },
    {
      "cell_type": "code",
      "source": [
        "10%3"
      ],
      "metadata": {
        "colab": {
          "base_uri": "https://localhost:8080/"
        },
        "id": "rEzKrBanFvvD",
        "outputId": "cddd72b7-b08b-4e5b-b5dc-31a3637af469"
      },
      "execution_count": null,
      "outputs": [
        {
          "output_type": "execute_result",
          "data": {
            "text/plain": [
              "1"
            ]
          },
          "metadata": {},
          "execution_count": 5
        }
      ]
    },
    {
      "cell_type": "code",
      "source": [
        "2**3"
      ],
      "metadata": {
        "colab": {
          "base_uri": "https://localhost:8080/"
        },
        "id": "i3gjY2zaF2T_",
        "outputId": "43cfa940-f25f-48ac-eff3-517aa71be42f"
      },
      "execution_count": null,
      "outputs": [
        {
          "output_type": "execute_result",
          "data": {
            "text/plain": [
              "8"
            ]
          },
          "metadata": {},
          "execution_count": 6
        }
      ]
    },
    {
      "cell_type": "code",
      "source": [
        "10//3"
      ],
      "metadata": {
        "colab": {
          "base_uri": "https://localhost:8080/"
        },
        "id": "q7DzOhipF8NK",
        "outputId": "ecb975ba-490b-4f3a-c011-07276195ecbf"
      },
      "execution_count": null,
      "outputs": [
        {
          "output_type": "execute_result",
          "data": {
            "text/plain": [
              "3"
            ]
          },
          "metadata": {},
          "execution_count": 7
        }
      ]
    },
    {
      "cell_type": "code",
      "source": [
        "a, b = 10, 3\n",
        "print(a, '+', b, '=',a +  b)\n",
        "print(a, '-', b, '=', a - b)\n",
        "print(a, '*', b, '=',a * b)\n",
        "print(a, '/', b, '=', a / b)\n",
        "print(a, '%', b, '=',a % b)\n",
        "print(a, '**', b, '=', a**b   )\n",
        "print(a, '//', b, '=',a//b)"
      ],
      "metadata": {
        "colab": {
          "base_uri": "https://localhost:8080/"
        },
        "id": "CEBfmpSuF_GS",
        "outputId": "7c989046-b53f-483e-e6f5-25f9bdabf76a"
      },
      "execution_count": null,
      "outputs": [
        {
          "output_type": "stream",
          "name": "stdout",
          "text": [
            "10 + 3 = 13\n",
            "10 - 3 = 7\n",
            "10 * 3 = 30\n",
            "10 / 3 = 3.3333333333333335\n",
            "10 % 3 = 1\n",
            "10 ** 3 = 1000\n",
            "10 // 3 = 3\n"
          ]
        }
      ]
    },
    {
      "cell_type": "code",
      "source": [
        "5>5\n"
      ],
      "metadata": {
        "colab": {
          "base_uri": "https://localhost:8080/"
        },
        "id": "o6zhSwO6KGDT",
        "outputId": "6df50da8-96a2-4bc6-ed2a-69be81a5634a"
      },
      "execution_count": null,
      "outputs": [
        {
          "output_type": "execute_result",
          "data": {
            "text/plain": [
              "False"
            ]
          },
          "metadata": {},
          "execution_count": 16
        }
      ]
    },
    {
      "cell_type": "code",
      "source": [
        "2<4"
      ],
      "metadata": {
        "colab": {
          "base_uri": "https://localhost:8080/"
        },
        "id": "0BcLJ0S2KpXF",
        "outputId": "29f25e3c-10bd-40a2-bfeb-f59331680097"
      },
      "execution_count": null,
      "outputs": [
        {
          "output_type": "execute_result",
          "data": {
            "text/plain": [
              "True"
            ]
          },
          "metadata": {},
          "execution_count": 17
        }
      ]
    },
    {
      "cell_type": "code",
      "source": [
        "10==10"
      ],
      "metadata": {
        "colab": {
          "base_uri": "https://localhost:8080/"
        },
        "id": "QgycqcFAKsrT",
        "outputId": "5b4d1bf3-f3a9-4e0d-9a3c-49ab2d1c4556"
      },
      "execution_count": null,
      "outputs": [
        {
          "output_type": "execute_result",
          "data": {
            "text/plain": [
              "True"
            ]
          },
          "metadata": {},
          "execution_count": 18
        }
      ]
    },
    {
      "cell_type": "code",
      "source": [
        "5!=5"
      ],
      "metadata": {
        "colab": {
          "base_uri": "https://localhost:8080/"
        },
        "id": "TOKOCNQvKx40",
        "outputId": "26b87544-12ed-4ec7-ecf1-486e5b3f81c6"
      },
      "execution_count": null,
      "outputs": [
        {
          "output_type": "execute_result",
          "data": {
            "text/plain": [
              "False"
            ]
          },
          "metadata": {},
          "execution_count": 19
        }
      ]
    },
    {
      "cell_type": "code",
      "source": [
        "10>=10"
      ],
      "metadata": {
        "colab": {
          "base_uri": "https://localhost:8080/"
        },
        "id": "_JDG-LlPK4yy",
        "outputId": "17ee6c4e-1707-416e-eced-2ebbbfffad32"
      },
      "execution_count": null,
      "outputs": [
        {
          "output_type": "execute_result",
          "data": {
            "text/plain": [
              "True"
            ]
          },
          "metadata": {},
          "execution_count": 20
        }
      ]
    },
    {
      "cell_type": "code",
      "source": [
        "9<=10"
      ],
      "metadata": {
        "colab": {
          "base_uri": "https://localhost:8080/"
        },
        "id": "BGRsWAb2K7fR",
        "outputId": "3d88efcc-40a5-42e1-e020-954282e1e091"
      },
      "execution_count": null,
      "outputs": [
        {
          "output_type": "execute_result",
          "data": {
            "text/plain": [
              "True"
            ]
          },
          "metadata": {},
          "execution_count": 21
        }
      ]
    },
    {
      "cell_type": "code",
      "source": [
        "a,b=5,10\n",
        "print(a,'>',b,'=',a>b)\n",
        "print(a,'<',b,'=',a<b)\n",
        "print(a,'==',b,'=',a==b)\n",
        "print(a,'!=',b,'=',a!=b)\n",
        "print(a,'>=',b,'=',a>=b)\n",
        "print(a,'<=',b,'=',a<=b)"
      ],
      "metadata": {
        "colab": {
          "base_uri": "https://localhost:8080/"
        },
        "id": "cKpL3hY5K9-T",
        "outputId": "1b06590d-8f6d-4fb4-cffe-ae061b0303c5"
      },
      "execution_count": null,
      "outputs": [
        {
          "output_type": "stream",
          "name": "stdout",
          "text": [
            "5 > 10 = False\n",
            "5 < 10 = True\n",
            "5 == 10 = False\n",
            "5 != 10 = True\n",
            "5 >= 10 = False\n",
            "5 <= 10 = True\n"
          ]
        }
      ]
    },
    {
      "cell_type": "code",
      "source": [
        "a=10\n",
        "print('a=10->',a)\n",
        "a += 5\n",
        "print('a+=5->',a)\n",
        "a-=3\n",
        "print('a-=3->',a)\n",
        "a*=6\n",
        "print('a*=6->',a)\n",
        "a/=8\n",
        "print('a/=8->',a)"
      ],
      "metadata": {
        "colab": {
          "base_uri": "https://localhost:8080/"
        },
        "id": "jhg9qq6xMRZa",
        "outputId": "e0c211eb-78b7-4163-bb05-dc1c77ff7079"
      },
      "execution_count": null,
      "outputs": [
        {
          "output_type": "stream",
          "name": "stdout",
          "text": [
            "a=10-> 10\n",
            "a+=5-> 15\n",
            "a-=3-> 12\n",
            "a*=6-> 72\n",
            "a/=8-> 9.0\n"
          ]
        }
      ]
    },
    {
      "cell_type": "code",
      "source": [
        "a=int(a)\n",
        "a%=9\n",
        "print('a%=9->',a)\n",
        "a//=6\n",
        "print('a//=6->',a)\n",
        "a**=1\n",
        "print('a**=1->',a)"
      ],
      "metadata": {
        "colab": {
          "base_uri": "https://localhost:8080/"
        },
        "id": "VbdCK2fMN3RZ",
        "outputId": "4b1ee57d-457d-4ddb-8fff-8a8a6fcc5f2a"
      },
      "execution_count": null,
      "outputs": [
        {
          "output_type": "stream",
          "name": "stdout",
          "text": [
            "a%=9-> 0\n",
            "a//=6-> 0\n",
            "a**=1-> 0\n"
          ]
        }
      ]
    },
    {
      "cell_type": "code",
      "source": [
        "perusahaan='microsoft'\n",
        "list_pulau=['jawa','sumatra','sulawesi']"
      ],
      "metadata": {
        "id": "RLoqYvufPeZE"
      },
      "execution_count": null,
      "outputs": []
    },
    {
      "cell_type": "code",
      "source": [
        "panjang=10\n",
        "lebar=5\n",
        "luas=panjang*lebar\n",
        "print(\"luas=\",luas)"
      ],
      "metadata": {
        "colab": {
          "base_uri": "https://localhost:8080/"
        },
        "id": "qxCL-YbJe0cN",
        "outputId": "0b2efbdf-3420-4dd6-cac1-38e5afa3a1bf"
      },
      "execution_count": null,
      "outputs": [
        {
          "output_type": "stream",
          "name": "stdout",
          "text": [
            "luas= 50\n"
          ]
        }
      ]
    },
    {
      "cell_type": "code",
      "source": [
        "nama=input('masukkan nama anda:')\n",
        "print('variabel nama bertipe data:',type(nama))"
      ],
      "metadata": {
        "colab": {
          "base_uri": "https://localhost:8080/"
        },
        "id": "F_R_9aagflmU",
        "outputId": "b3120187-7a16-4939-bd5b-2bb38bf7d7ee"
      },
      "execution_count": null,
      "outputs": [
        {
          "output_type": "stream",
          "name": "stdout",
          "text": [
            "masukkan nama anda:artha akbarullah\n",
            "variabel nama bertipe data: <class 'str'>\n"
          ]
        }
      ]
    },
    {
      "cell_type": "code",
      "source": [
        "print('kalkulator luasnpersegi panjang\\n')\n",
        "panjang = input('masukkan panjang:')\n",
        "lebar=input('masukkan lebar:')\n",
        "print('luas=',int(panjang)*int(lebar))"
      ],
      "metadata": {
        "colab": {
          "base_uri": "https://localhost:8080/"
        },
        "id": "8nRFD2oBhG4-",
        "outputId": "d14aca34-e0e5-4af7-9e6e-d50bfbd715b2"
      },
      "execution_count": null,
      "outputs": [
        {
          "output_type": "stream",
          "name": "stdout",
          "text": [
            "kalkulator luasnpersegi panjang\n",
            "\n",
            "masukkan panjang:10\n",
            "masukkan lebar:5\n",
            "luas= 50\n"
          ]
        }
      ]
    }
  ]
}